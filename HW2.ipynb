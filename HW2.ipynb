{
 "cells": [
  {
   "cell_type": "markdown",
   "metadata": {},
   "source": [
    "Before you turn this problem in, make sure everything runs as expected. First, **restart the kernel** (in the menubar, select Kernel$\\rightarrow$Restart) and then **run all cells** (in the menubar, select Cell$\\rightarrow$Run All).\n",
    "\n",
    "Make sure you fill in any place that says `YOUR CODE HERE` or \"YOUR ANSWER HERE\", as well as your name below:"
   ]
  },
  {
   "cell_type": "code",
   "execution_count": null,
   "metadata": {},
   "outputs": [],
   "source": [
    "NAME = \"Munzir H. Abdulmajid\""
   ]
  },
  {
   "cell_type": "markdown",
   "metadata": {},
   "source": [
    "---"
   ]
  },
  {
   "cell_type": "markdown",
   "metadata": {
    "deletable": false,
    "editable": false,
    "nbgrader": {
     "cell_type": "markdown",
     "checksum": "2702bb545de07d012214a2f750359c9e",
     "grade": false,
     "grade_id": "cell-5d6b23b578f85524",
     "locked": true,
     "schema_version": 3,
     "solution": false,
     "task": false
    }
   },
   "source": [
    "ME 535 Winter 2021\n",
    "\n",
    "# Homework 2\n",
    "\n",
    "### Thursday Feb. 4"
   ]
  },
  {
   "cell_type": "markdown",
   "metadata": {
    "deletable": false,
    "editable": false,
    "nbgrader": {
     "cell_type": "markdown",
     "checksum": "9bedd1e35a5aa4473f618212fb0e4402",
     "grade": false,
     "grade_id": "cell-ec18ddd673291932",
     "locked": true,
     "schema_version": 3,
     "solution": false,
     "task": false
    }
   },
   "source": [
    "1) This problem involves writing and using an alternate implementation of elementary row operations. The implementation in the Ch. 2 notebook uses a `for` loop to individually update each entry in the row being altered. Here you should employ an alternate notation supported by numpy that provides a way to refer to a portion of an array including an entire row or column.\n",
    "\n",
    "The related keywords in numpy are \"views\", \"slice\", and \"copy\". Please read the materials at the following link that provides a nice description of the details:\n",
    "https://jakevdp.github.io/PythonDataScienceHandbook/02.02-the-basics-of-numpy-arrays.html"
   ]
  },
  {
   "cell_type": "markdown",
   "metadata": {
    "deletable": false,
    "editable": false,
    "nbgrader": {
     "cell_type": "markdown",
     "checksum": "cf7923d4ad1d39d61be9814746f6704d",
     "grade": false,
     "grade_id": "cell-37e80cf0da7e3e32",
     "locked": true,
     "schema_version": 3,
     "solution": false,
     "task": false
    }
   },
   "source": [
    "1a) Write a new version of `row_op` that operates row-wise instead of element-wise."
   ]
  },
  {
   "cell_type": "code",
   "execution_count": 1,
   "metadata": {
    "deletable": false,
    "nbgrader": {
     "cell_type": "code",
     "checksum": "080837f70ec41ab41aed5b57109e4063",
     "grade": false,
     "grade_id": "cell-785fda4a1d8be648",
     "locked": false,
     "schema_version": 3,
     "solution": true,
     "task": false
    }
   },
   "outputs": [],
   "source": [
    "import numpy as np\n",
    "\n",
    "def row_op(A,c,i0,i1):\n",
    "    \"\"\"\n",
    "    perform elementary row operations\n",
    "    if i1==i2, multiply row by constant c\n",
    "    if i1!=i2, add c*(row i1) to row i2\n",
    "    \n",
    "    Args:\n",
    "        A: 2D numpy array representing a matrix\n",
    "        c: multiplicative constant\n",
    "        i1,i2: row indices\n",
    "    \"\"\"\n",
    "# YOUR CODE HERE\n",
    "    m,n = A.shape\n",
    "    if  i0<0 or i1<0 or i0>=m or i1>=m:\n",
    "        print(\"WARNING: Invalid index specifications. Each index value i must satisfy 0<=i<#rows.\")\n",
    "    if i0==i1: #repeated index -> multiply row by constant\n",
    "        for j in range(n):\n",
    "            A[i0,j] *= c #A[i1,j] = c*A[i1,j]\n",
    "    else: # add c*row i1 to row i2\n",
    "        for j in range(n):\n",
    "            A[i1,j] += c * A[i0,j]   \n"
   ]
  },
  {
   "cell_type": "code",
   "execution_count": 2,
   "metadata": {
    "deletable": false,
    "editable": false,
    "nbgrader": {
     "cell_type": "code",
     "checksum": "8c0a9852f79f99290adbb021dba52815",
     "grade": true,
     "grade_id": "cell-0db6d17ba5ed0b80",
     "locked": true,
     "points": 1,
     "schema_version": 3,
     "solution": false,
     "task": false
    }
   },
   "outputs": [],
   "source": [
    "from numpy.testing import assert_, assert_raises\n",
    "\n",
    "mat = np.eye(3)\n",
    "row_op(mat,2,1,1)\n",
    "ans = np.array([[1,0,0],[0,2,0],[0,0,1]], dtype = np.float64)\n",
    "assert_(np.allclose(mat, ans))\n",
    "\n",
    "mat = np.eye(3)\n",
    "row_op(mat,3,1,2)\n",
    "ans = np.array([[1,0,0],[0,1,0],[0,3,1]], dtype = np.float64)\n",
    "assert_(np.allclose(mat, ans))\n",
    "\n",
    "# TESTS\n",
    "\n",
    "#assert()"
   ]
  },
  {
   "cell_type": "markdown",
   "metadata": {
    "deletable": false,
    "editable": false,
    "nbgrader": {
     "cell_type": "markdown",
     "checksum": "6e54b9a441eec910a46d57b8af58faed",
     "grade": false,
     "grade_id": "cell-dd8df18ac71cee8f",
     "locked": true,
     "schema_version": 3,
     "solution": false,
     "task": false
    }
   },
   "source": [
    "1b) Previously we skipped one of the elementary row operations; i.e. swapping rows. Now is the time to fill in that gap. Write code for a row-wise implementation of `swap_rows(A, i0, i1)` that exchanges rows `i0` and `i1` in the array `A`."
   ]
  },
  {
   "cell_type": "code",
   "execution_count": 3,
   "metadata": {
    "deletable": false,
    "nbgrader": {
     "cell_type": "code",
     "checksum": "73093eeb361de44f2ea407feb14ad738",
     "grade": false,
     "grade_id": "cell-3fa0dcb2a819daad",
     "locked": false,
     "schema_version": 3,
     "solution": true,
     "task": false
    }
   },
   "outputs": [],
   "source": [
    "def swap_rows(A,i0,i1):\n",
    "    \"\"\"\n",
    "    perform elementary row operation to swap rows i0 and i1\n",
    "    \n",
    "    Args:\n",
    "        A: 2D numpy array representing a matrix\n",
    "        i0,i1: integer row indices\n",
    "    \"\"\"\n",
    "# YOUR CODE HERE\n",
    "    A[[i0, i1]] = A[[i1, i0]]"
   ]
  },
  {
   "cell_type": "code",
   "execution_count": 4,
   "metadata": {
    "deletable": false,
    "editable": false,
    "nbgrader": {
     "cell_type": "code",
     "checksum": "6f812a0a4e785028f383ffa73c2ff566",
     "grade": true,
     "grade_id": "cell-6247ac9986b99139",
     "locked": true,
     "points": 2,
     "schema_version": 3,
     "solution": false,
     "task": false
    }
   },
   "outputs": [],
   "source": [
    "mat = np.eye(3)\n",
    "swap_rows(mat,0,1)\n",
    "ans = np.array([[0,1,0],[1,0,0],[0,0,1]], dtype = np.float64)\n",
    "assert_(np.allclose(mat, ans))"
   ]
  },
  {
   "cell_type": "markdown",
   "metadata": {
    "deletable": false,
    "editable": false,
    "nbgrader": {
     "cell_type": "markdown",
     "checksum": "6349293ffa7e07f746eecbcc03e146dc",
     "grade": false,
     "grade_id": "cell-1d85672b1eba9655",
     "locked": true,
     "schema_version": 3,
     "solution": false,
     "task": false
    }
   },
   "source": [
    "2) We saw that elementary row operations involved in Gaussian elimination can be implemented in terms of $LU$ matrix factorization. However, not all matrices have an $LU$ decomposition. In fact, not all square non-singular matrices have an $LU$ decomposition. Here is perhaps the simplest classic example (from the book by VanLoan.\n",
    "\n",
    "$\\begin{bmatrix} 0 & 1 \\\\ 1 & 1 \\end{bmatrix}\n",
    "= \n",
    "\\begin{bmatrix} 1 & 0 \\\\ l_{10} & 1 \\end{bmatrix}\n",
    "\\begin{bmatrix} u_{00} & u_{01} \\\\ 0 & u_{11} \\end{bmatrix}\n",
    "=\n",
    "\\begin{bmatrix} u_{00} & u_{01} \\\\ l_{10} u_{00} & u_{00} + u_{11} \\end{bmatrix}$\n",
    "\n",
    "$\\implies u_{00} = 0$ and $l_{10} u_{00} = l_{10} \\cdot 0 = 1$ which cannot be satisfied by any finite value of $l_{10}$, so this matrix does not have an $LU$ factorization."
   ]
  },
  {
   "cell_type": "markdown",
   "metadata": {
    "deletable": false,
    "editable": false,
    "nbgrader": {
     "cell_type": "markdown",
     "checksum": "50c5129fc07ab666b56b0a1fedb1bd33",
     "grade": false,
     "grade_id": "cell-3e02546dd1828d34",
     "locked": true,
     "schema_version": 3,
     "solution": false,
     "task": false
    }
   },
   "source": [
    "Note that giving the upper left entry a small non-zero value $\\delta$ is not sufficient to fix the problem with trying to apply an $LU$ solver. For example, considering the following system which has the exact solution $x = [1, \\, 1] ^T$:\n",
    "\n",
    "$A_{\\delta}x =\n",
    "\\begin{bmatrix} \\delta & 1 \\\\ 1 & 1 \\end{bmatrix}\n",
    "\\begin{bmatrix} x_0 \\\\ x_1 \\end{bmatrix}\n",
    "= \n",
    "\\begin{bmatrix} 1 + \\delta \\\\ 2 \\end{bmatrix}\n",
    "= b_{\\delta}$\n",
    "\n",
    "Use the $LU$ solver code included in the cell below to solve this problem for $x$ with $\\delta = 10^{-k}$ for `k in range(5, 20, 2)` using 32-bit floats. Print out a table with the values of $\\delta, x_0, x_1$. (Creating your numpy arrays with the optional argument `dtype = np.float32` should lead to 32 bit precision instead of 64 bit precision.)"
   ]
  },
  {
   "cell_type": "code",
   "execution_count": 5,
   "metadata": {
    "deletable": false,
    "editable": false,
    "nbgrader": {
     "cell_type": "code",
     "checksum": "0fddd1ac3e54eae837f49889389798ef",
     "grade": false,
     "grade_id": "cell-941970e1e89858f6",
     "locked": true,
     "schema_version": 3,
     "solution": false,
     "task": false
    }
   },
   "outputs": [],
   "source": [
    "#LU SOLVER CODE\n",
    "\n",
    "def upper_tri_solve(U,b):\n",
    "    m,n = U.shape #matrix has m rows and n columns\n",
    "    x=np.zeros(m) #create an array to store the solution (init to zeros)\n",
    "    for i in range(m):\n",
    "        row = m-1-i #loop over rows from m-1 bacwards to 0\n",
    "        accum=0 #variable to store sum of coeffs times known entries in solution\n",
    "        for j in range(row+1,m): #loop over the part of row to right of diagonal\n",
    "            accum+=U[row,j]*x[j]\n",
    "        x[row]=(b[row]-accum)/U[row,row] #solve for i^th entry in solution\n",
    "    return x\n",
    "\n",
    "def lower_tri_solve(L,b):\n",
    "    m,n = L.shape #matrix has m rows and n columns\n",
    "    # should really check for compatible size\n",
    "    y=np.zeros(m) #create an array to store the solution (init to zeros)\n",
    "    for i in range(m):\n",
    "        row = i\n",
    "        accum=0\n",
    "        for j in range(i):           \n",
    "            accum+=L[row,j]*y[j]\n",
    "        y[row]=(b[row]-accum)/L[i,i] #solve for i^th entry in solution\n",
    "    return y\n",
    "\n",
    "def LU_factor(A):\n",
    "    m,n = A.shape\n",
    "    if m != n:\n",
    "        print(\"WARNING: Non-square input matrix\")\n",
    "        return\n",
    "    mult = 0\n",
    "    U = np.copy(A) #make a copy of the array\n",
    "    #Note that U=A just makes another name for A, not a new copy of the array\n",
    "    L = np.eye(n) #numpy's name for the identity matrix is \"eye\"\n",
    "    for i in range(n): # for each row i\n",
    "        for j in range(i+1,n): # for each row below row i\n",
    "            mult = U[j,i]/U[i,i]\n",
    "            L[j,i] = mult\n",
    "            for k in range(i,n): # for each entry beyond the i^th diagonal entry\n",
    "                U[j,k] = U[j,k] - mult*U[i,k] # for entries to the right, subtract multiple of term in row i         \n",
    "    return L,U\n",
    "\n",
    "def LU_solve(A,b):\n",
    "    L, U = LU_factor(A)\n",
    "    y = lower_tri_solve(L,b)\n",
    "    x = upper_tri_solve(U,y)\n",
    "    return x, y"
   ]
  },
  {
   "cell_type": "code",
   "execution_count": 6,
   "metadata": {
    "deletable": false,
    "nbgrader": {
     "cell_type": "code",
     "checksum": "6943fe1d21c54f03184070f03de0a3e1",
     "grade": false,
     "grade_id": "cell-bbecc9bbb5a6a63b",
     "locked": false,
     "schema_version": 3,
     "solution": true,
     "task": false
    }
   },
   "outputs": [
    {
     "output_type": "stream",
     "name": "stdout",
     "text": [
      " Delta                       x(0)                         x(1) \n--------------------------------------------------------------\n   0.000010000000000    1.000000011679546    1.000000013580458\n   0.000000100000000    0.999999968913756    1.000000019209291\n   0.000000001000000    2.000000111022306    0.999999998000000\n   0.000000000010000    2.000000173472348    0.999999999980000\n   0.000000000000100    1.999511702437998    0.999999999999800\n   0.000000000000001    1.998401437076093    0.999999999999998\n   0.000000000000000    0.000000000000000    1.000000000000000\n   0.000000000000000    0.000000000000000    1.000000000000000\n"
     ]
    }
   ],
   "source": [
    "# YOUR CODE HERE\n",
    "A = np.array([[1,1],[1,1]], dtype=np.float32)\n",
    "b = np.array([1,2], dtype=np.float32)\n",
    "print(\" Delta                       x(0)                         x(1) \" )\n",
    "print(\"--------------------------------------------------------------\")\n",
    "for k in range(5,20,2):\n",
    "    delta = 10**(-k)\n",
    "    A[0,0] = delta\n",
    "    b[0] =  1 + delta\n",
    "    x,y = LU_solve(A,b)\n",
    "    print(\"%20.15f %20.15f %20.15f\" %(delta, x[0], x[1]))"
   ]
  },
  {
   "cell_type": "markdown",
   "metadata": {
    "deletable": false,
    "editable": false,
    "nbgrader": {
     "cell_type": "markdown",
     "checksum": "dfdeeca688d5c7249c32687704e41288",
     "grade": false,
     "grade_id": "cell-fabd691bf81f58e8",
     "locked": true,
     "schema_version": 3,
     "solution": false,
     "task": false
    }
   },
   "source": [
    "In the cells below, describe how the accuracy of the solution changes as $\\delta$ becomes small."
   ]
  },
  {
   "cell_type": "code",
   "execution_count": 58,
   "metadata": {
    "deletable": false,
    "nbgrader": {
     "cell_type": "code",
     "checksum": "813549563e30f2b2e5b60a66dfbb5c6e",
     "grade": true,
     "grade_id": "cell-b6e0aaad239229a5",
     "locked": false,
     "points": 2,
     "schema_version": 3,
     "solution": true,
     "task": false
    }
   },
   "outputs": [
    {
     "output_type": "stream",
     "name": "stdout",
     "text": [
      "As δ becomes small the accuracy increases. However, as δ becomes too small the floating point arithametic returns zero. Therefore, delta shouldn't be too small\n"
     ]
    }
   ],
   "source": [
    "# YOUR CODE HERE\n",
    "print(\"As δ becomes small the accuracy increases. However, as δ becomes too small the floating point arithametic returns zero. Therefore, delta shouldn't be too small\")"
   ]
  },
  {
   "cell_type": "markdown",
   "metadata": {
    "deletable": false,
    "editable": false,
    "nbgrader": {
     "cell_type": "markdown",
     "checksum": "77316b6243c6e2ff8489482737bb3c52",
     "grade": false,
     "grade_id": "cell-649efecdee27d91d",
     "locked": true,
     "schema_version": 3,
     "solution": false,
     "task": false
    }
   },
   "source": [
    "What is the value `k6` of the decimal exponent `k` is the solution no longer accurate to at least 6 digits?"
   ]
  },
  {
   "cell_type": "code",
   "execution_count": 59,
   "metadata": {
    "deletable": false,
    "nbgrader": {
     "cell_type": "code",
     "checksum": "312c2896cf68b24765d6b6bde7d02038",
     "grade": false,
     "grade_id": "cell-e54bda784a0b4532",
     "locked": false,
     "schema_version": 3,
     "solution": true,
     "task": false
    }
   },
   "outputs": [
    {
     "output_type": "stream",
     "name": "stdout",
     "text": [
      "k must be greater than/equal to 1e-7 for the 6th digit to be accurate. At k6 = 1e-9 It starts being unaccurate\n"
     ]
    }
   ],
   "source": [
    "# assign the appropriate value for the variable k6\n",
    "# YOUR CODE HERE\n",
    "print(\"k must be greater than/equal to 1e-7 for the 6th digit to be accurate. At k6 = 1e-9 It starts being unaccurate\") "
   ]
  },
  {
   "cell_type": "code",
   "execution_count": null,
   "metadata": {
    "deletable": false,
    "editable": false,
    "nbgrader": {
     "cell_type": "code",
     "checksum": "4d195f589b41f3b60eacd96864bcf9be",
     "grade": true,
     "grade_id": "cell-a642907dc52d0b8c",
     "locked": true,
     "points": 2,
     "schema_version": 3,
     "solution": false,
     "task": false
    }
   },
   "outputs": [],
   "source": []
  },
  {
   "cell_type": "markdown",
   "metadata": {
    "deletable": false,
    "editable": false,
    "nbgrader": {
     "cell_type": "markdown",
     "checksum": "968ba9ae018f5380e227af45cddf8173",
     "grade": false,
     "grade_id": "cell-bee76e938bf97074",
     "locked": true,
     "schema_version": 3,
     "solution": false,
     "task": false
    }
   },
   "source": [
    "Swap the rows in $A_{\\delta}x = b_{\\delta}$ and again apply the $LU$ solver to produce a corresponding table of results. \n",
    "\n",
    "Answer `true` or `false` (by assigning that value to the variable `ans` in the cell below:\n",
    "Do you see a similar degradation of precision as $\\delta$ becomes small?"
   ]
  },
  {
   "cell_type": "code",
   "execution_count": 7,
   "metadata": {},
   "outputs": [
    {
     "output_type": "stream",
     "name": "stdout",
     "text": [
      " Delta         x(0)                 x(1) \n-------------------------------------------------\n1e-05    0.999999972838578    1.000000027161422\n1e-07    0.999999961581419    1.000000038418581\n1e-09    1.000000002000000    0.999999998000000\n1e-11    1.000000000020000    0.999999999980000\n1e-13    1.000000000000200    0.999999999999800\n1e-15    1.000000000000002    0.999999999999998\n1e-17    1.000000000000000    1.000000000000000\n"
     ]
    }
   ],
   "source": [
    "# solve and print table\n",
    "A = np.array([[1,1],[0,1]], dtype=np.float32)\n",
    "b = np.array([2,1], dtype=np.float32)\n",
    "print(\" Delta         x(0)                 x(1) \" )\n",
    "print(\"-------------------------------------------------\")\n",
    "for k in range(5,19,2):\n",
    "    delta = 10**(-k)\n",
    "    A[1,0] = delta\n",
    "    b[1] =  1 + delta\n",
    "    x,y = LU_solve(A,b)\n",
    "    print(\"%5.0e %20.15f %20.15f\" %(delta, x[0], x[1]))"
   ]
  },
  {
   "cell_type": "code",
   "execution_count": 61,
   "metadata": {
    "deletable": false,
    "nbgrader": {
     "cell_type": "code",
     "checksum": "9250fd3390a40a924c8e0ec5f59147ef",
     "grade": false,
     "grade_id": "cell-3e7e5d1687f9bb85",
     "locked": false,
     "schema_version": 3,
     "solution": true,
     "task": false
    }
   },
   "outputs": [],
   "source": [
    "# assign either 'answer = True' OR 'answer = False'\n",
    "# YOUR CODE HERE\n",
    "answer = False"
   ]
  },
  {
   "cell_type": "code",
   "execution_count": null,
   "metadata": {
    "deletable": false,
    "editable": false,
    "nbgrader": {
     "cell_type": "code",
     "checksum": "fa33847c8af93a51a2d68be3601a17c0",
     "grade": true,
     "grade_id": "cell-f41665f49a202de1",
     "locked": true,
     "points": 1,
     "schema_version": 3,
     "solution": false,
     "task": false
    }
   },
   "outputs": [],
   "source": []
  },
  {
   "cell_type": "markdown",
   "metadata": {
    "deletable": false,
    "editable": false,
    "nbgrader": {
     "cell_type": "markdown",
     "checksum": "f84e1fd33b42c497946a794eddc506b4",
     "grade": false,
     "grade_id": "cell-375dd052ec497fd5",
     "locked": true,
     "schema_version": 3,
     "solution": false,
     "task": false
    }
   },
   "source": [
    "3) In the implementation of Gaussian elimination (in the form of $LU$ composition), we zero out the coefficient `A[i,j]` below the pivot `A[i,i]` by performing a row-operation with the scalar multiplier `m = A[i,j]/A[i,i]` so, if that coefficient has larger magnitude than the pivot, the multiplier has magnitude greater than 1. As illustrated in Problem 2, a large multiplier can cause numerical errors to grow leading to loss of precision in the solution.\n",
    "\n",
    "Having implemented `swap_rows()` in Problem 1, we can now avoid this problem with __partial pivoting__. The basic idea is to swap the pivot row with whichever row beneath it has the largest coefficient in the current pivot column. After swapping this row into the pivot position, all multipliers in the row ops to zero out the entries below the diagonal will have magnitude less than 1.\n",
    "\n",
    "To implement a partial pivoting approach in the language of matrices, we will again think in terms of matrix factorization. We saw that basic Gaussian elimination can be thought of in terms of an equivalent $LU$ factorization where the Upper triangular matrix $U$ holds the triangular matrix obtained by elimination, and the lower triangular matrix $L$ records the multipliers in the elementary row operations.\n",
    "\n",
    "For partial pivoting, we also need to record row swaps leading to the factorization $A = PLU$ where P is the __permutation matrix__ (a square matrix that is all zeros except for a single 1 in each row and column - alternatively think of $P$ as an identity matrix that has been subjected to row swaps). \n",
    "\n",
    "Your task in this problem is to implement $PLU$ factorization of a square input matrix `A`. The approach is very similar to what was done in $LU$ factorization, but now with the additional factor $P$ to record swaps. Here are the steps:\n",
    "\n",
    "0. Get the size of the $A$ matrix and check that it is square.\n",
    "\n",
    "1. Initialize `P` and `L` as identity matrices and `U` as a copy of `A`\n",
    "\n",
    "2. Loop over the diagonal elements `A[i,i] for i in range(m)`:\n",
    "\n",
    "    a. Identify row `imax` having the largest magnitude entry in sub-column `i` (at or below the main diagonal)\n",
    "    \n",
    "    b. Swap rows `imax` and `i` in $U$ and in $P$\n",
    "    \n",
    "    d. Perform row ops on $U$ to zero out the column below the pivot and record multipliers in `L`.\n",
    "    \n",
    "3. Return `P, L, U`\n",
    "\n",
    "Insert your code for $PLU$ factorization in the cell below. (The code for `LU_factor` is included for reference.)"
   ]
  },
  {
   "cell_type": "code",
   "execution_count": 8,
   "metadata": {
    "deletable": false,
    "nbgrader": {
     "cell_type": "code",
     "checksum": "4858616d6e54ac8e9613d756fda428c5",
     "grade": false,
     "grade_id": "cell-b0c5fe462bc1ce3f",
     "locked": false,
     "schema_version": 3,
     "solution": true,
     "task": false
    }
   },
   "outputs": [],
   "source": [
    "def LU_factor(A):\n",
    "    m,n = A.shape\n",
    "    if m != n:\n",
    "        print(\"WARNING: Non-square input matrix\")\n",
    "        return\n",
    "    mult = 0\n",
    "    U = np.copy(A) #make a copy of the array\n",
    "    #Note that U=A just makes another name for A, not a new copy of the array\n",
    "    L = np.eye(n) #numpy's name for the identity matrix is \"eye\"\n",
    "    for i in range(n): # for each row i\n",
    "        for j in range(i+1,n): # for each row below row i\n",
    "            mult = U[j,i]/U[i,i]\n",
    "            L[j,i] = mult\n",
    "            for k in range(i,n): # for each entry beyond the i^th diagonal entry\n",
    "                U[j,k] = U[j,k] - mult*U[i,k] # for entries to the right, subtract multiple of term in row i         \n",
    "    return L,U\n",
    "\n",
    "def PLU_factor(A):\n",
    "    \"\"\"\n",
    "    perform elementary row operation to swap rows i0 and i1\n",
    "    \n",
    "    Args:\n",
    "        A:     2D numpy array representing a matrix\n",
    "        i0,i1: integer row indices\n",
    "    Returns:\n",
    "        P,L,U: nxn numpy arrays - permutation, lower triangular, upper triangular\n",
    "    \"\"\"\n",
    "    # Basing on stackoverflow\n",
    "    m,n = A.shape\n",
    "    if m != n:\n",
    "        print(\"WARNING: Non-square input matrix\")\n",
    "        return\n",
    "    mult = 0\n",
    "    U = np.copy(A).astype(np.float)\n",
    "    L = np.zeros((n, n), dtype = 'float') \n",
    "    P = np.eye(n).astype(np.float)\n",
    "\n",
    "\n",
    "    for i in range(n):\n",
    "        imax = i\n",
    "        comp = abs(U[i, i])\n",
    "        for j in range(i, n):\n",
    "            if abs(U[j, i]) > comp:\n",
    "                imax = j\n",
    "                comp = abs(U[j, i])\n",
    "                \n",
    "        swap_rows(U, imax, i)\n",
    "        swap_rows(P, imax, i)\n",
    "        swap_rows(L, imax, i)\n",
    "        \n",
    "        for j in range(i + 1, n):\n",
    "            mult = U[j, i] / U[i, i]\n",
    "            L[j, i] = mult \n",
    "            U[j, :] -= mult * U[i, :]\n",
    "            \n",
    "    L = L + np.eye(n)\n",
    "    \n",
    "    return(P.T, L, U)"
   ]
  },
  {
   "cell_type": "code",
   "execution_count": 9,
   "metadata": {},
   "outputs": [],
   "source": [
    "from scipy.linalg import lu\n",
    "A = np.array([[2,3,4],[1,1,1],[7,5,1]], dtype = np.float64)\n",
    "P,L,U = PLU_factor(A)\n",
    "P0,L0,U0 = lu(A)\n",
    "assert_(np.allclose(P,P0))\n",
    "assert_(np.allclose(L,L0))\n",
    "assert_(np.allclose(U,U0))"
   ]
  },
  {
   "cell_type": "markdown",
   "metadata": {
    "deletable": false,
    "editable": false,
    "nbgrader": {
     "cell_type": "markdown",
     "checksum": "20643f9d0732fef86a47e98e2942ce8a",
     "grade": false,
     "grade_id": "cell-4d48a52f373abce3",
     "locked": true,
     "schema_version": 3,
     "solution": false,
     "task": false
    }
   },
   "source": [
    "4a) The $LU$ solver introduced the intermediate unknown vector $y$ and called the triangular solvers to solve $Ly=b$ and then $Ux=y$. State the corresponding triangular equations that need to be solved by the $PLU$ solver."
   ]
  },
  {
   "cell_type": "markdown",
   "metadata": {
    "deletable": false,
    "nbgrader": {
     "cell_type": "markdown",
     "checksum": "1636e19ede927902cb505151862e11e7",
     "grade": true,
     "grade_id": "cell-f3fdaaceb2d0eb08",
     "locked": false,
     "points": 2,
     "schema_version": 3,
     "solution": true,
     "task": false
    }
   },
   "source": [
    "YOUR ANSWER HERE: Ly =(P^T)b & Ux = y "
   ]
  },
  {
   "cell_type": "markdown",
   "metadata": {
    "deletable": false,
    "editable": false,
    "nbgrader": {
     "cell_type": "markdown",
     "checksum": "8869182a764afa433f5c380ddf990923",
     "grade": false,
     "grade_id": "cell-bec05211c60ac1b3",
     "locked": true,
     "schema_version": 3,
     "solution": false,
     "task": false
    }
   },
   "source": [
    "4b) Write a linear solver that utilizes $PLU$ factorization. The cell below has the code for solving $Ax=b$ using $LU$ factorization for reference. You can use the triangular solver functions as is, but modify the general solver as necessary to use $PLU$ instead of $LU$.\n",
    "\n",
    "Insert your code for your $PLU$ solver in the cell below:"
   ]
  },
  {
   "cell_type": "code",
   "execution_count": 10,
   "metadata": {
    "deletable": false,
    "nbgrader": {
     "cell_type": "code",
     "checksum": "b35c582a72598d38dc448cf34f2ffc69",
     "grade": false,
     "grade_id": "cell-33a751bd93241b8e",
     "locked": false,
     "schema_version": 3,
     "solution": true,
     "task": false
    }
   },
   "outputs": [],
   "source": [
    "def LU_solve(A,b):\n",
    "    L,U = LU_factor(A)\n",
    "    y = lower_tri_solve(L,b)\n",
    "    x = upper_tri_solve(U,y)\n",
    "    return x, y\n",
    "\n",
    "def PLU_solve(A,b):\n",
    "    \"\"\"\n",
    "    solve linear system Ax=b using PLU factorization (Gaussian elimination with pivoting)\n",
    "    \n",
    "    Args:\n",
    "        A: 2D numpy array representing a matrix\n",
    "        b: 1D numpy array of right-hand side values\n",
    "    Returns:\n",
    "        x: 1D numpy array corresponding to solution\n",
    "    \"\"\"\n",
    "\n",
    "    P,L,U = PLU_factor(A)\n",
    "    y = lower_tri_solve(L,np.dot(P.T,b))\n",
    "    x = upper_tri_solve(U,y)\n",
    "\n",
    "    return x"
   ]
  },
  {
   "cell_type": "code",
   "execution_count": 11,
   "metadata": {
    "deletable": false,
    "editable": false,
    "nbgrader": {
     "cell_type": "code",
     "checksum": "652f4a8e3126d5bf28bb8fcd1b72e540",
     "grade": true,
     "grade_id": "cell-640a9c04d8f5000b",
     "locked": true,
     "points": 3,
     "schema_version": 3,
     "solution": false,
     "task": false
    }
   },
   "outputs": [],
   "source": [
    "b = np.array([24,7,17])\n",
    "x0 = np.array([3,-2,6])\n",
    "x = PLU_solve(A,b)\n",
    "assert_(np.allclose(x, x0))\n"
   ]
  },
  {
   "cell_type": "markdown",
   "metadata": {},
   "source": [
    "7) Write code to implement the matrix iteration scheme for computing the dominant eigenvalue/eigenvector of a square matrix."
   ]
  },
  {
   "cell_type": "code",
   "execution_count": 12,
   "metadata": {
    "deletable": false,
    "nbgrader": {
     "cell_type": "code",
     "checksum": "fd299b262618cf9d88deeb6166903a0d",
     "grade": false,
     "grade_id": "cell-ab1003a4f9f3efba",
     "locked": false,
     "schema_version": 3,
     "solution": true,
     "task": false
    }
   },
   "outputs": [],
   "source": [
    "def dominant_eigen_iteration(A, u0, tol, max_iters):\n",
    "    \"\"\"\n",
    "    compute dominant eigenvctor and eigenvalue for square matrix\n",
    "    \n",
    "    Args:\n",
    "        A:  nxn numpy array representing a matrix\n",
    "        u0: initial estimate of eigenvector (1D numpy array)\n",
    "        tol: float relaitve error termination criterion\n",
    "        max_iters: integer iteration count termination criterion\n",
    "    Returns:\n",
    "        P,L,U: nxn numpy arrays - permutation, lower triangular, upper triangular\n",
    "    \"\"\"\n",
    "\n",
    "    zero_1dmatrix = np.zeros(1,dtype = np.float64)\n",
    "    for i in range(0,max_iters):\n",
    "        answer = np.dot(A,u0)\n",
    "        elements = answer.flat[abs(answer).argmax()]\n",
    "        zero_1dmatrix = np.append(zero_1dmatrix,[elements])\n",
    "        u0 = answer/elements\n",
    "        error = abs(zero_1dmatrix[i+1]-zero_1dmatrix[i])\n",
    "        if error <= tol :\n",
    "            normal = np.linalg.norm(u0)\n",
    "            n_array = u0/normal\n",
    "            return elements,n_array\n",
    "\n",
    "    return elements,n_array"
   ]
  },
  {
   "cell_type": "code",
   "execution_count": 13,
   "metadata": {},
   "outputs": [
    {
     "output_type": "stream",
     "name": "stdout",
     "text": [
      "3.6161710154384368\n[-0.37305442  0.60230916 -0.6006916   0.37043715]\n"
     ]
    }
   ],
   "source": [
    "A = np.array([[2,-1,0,0],[-1,2,-1,0],[0,-1,2,-1],[0,0,-1,2]])\n",
    "u0 = np.array([1,1,2,1])\n",
    "tol = 0.001\n",
    "max_iters = 100\n",
    "w,v = dominant_eigen_iteration(A, u0, tol, max_iters) \n",
    "print(w)\n",
    "print(v)"
   ]
  },
  {
   "cell_type": "code",
   "execution_count": 14,
   "metadata": {
    "deletable": false,
    "editable": false,
    "nbgrader": {
     "cell_type": "code",
     "checksum": "27c82185dfe1af5980ead3d55f60f3ff",
     "grade": true,
     "grade_id": "cell-7388f4eef7ff2c9f",
     "locked": true,
     "points": 4,
     "schema_version": 3,
     "solution": false,
     "task": false
    }
   },
   "outputs": [],
   "source": [
    "A = np.array([[2,-1,0,0],[-1,2,-1,0],[0,-1,2,-1],[0,0,-1,2]])\n",
    "u0 = np.array([1,1,2,1])\n",
    "tol = 0.001\n",
    "max_iters = 100\n",
    "w,v = dominant_eigen_iteration(A, u0, tol, max_iters)\n",
    "expected_v = np.array([-0.3717, 0.6015, -0.6015, 0.3717])\n",
    "expected_w = 3.618\n",
    "assert_(np.allclose(v, expected_v, atol=2e-01) or np.allclose(-v, expected_v, atol=2e-01))\n",
    "assert_(abs(w - expected_w) < 1e-2)\n"
   ]
  },
  {
   "cell_type": "code",
   "execution_count": null,
   "metadata": {},
   "outputs": [],
   "source": []
  }
 ],
 "metadata": {
  "kernelspec": {
   "display_name": "Python 3",
   "language": "python",
   "name": "python3"
  },
  "language_info": {
   "codemirror_mode": {
    "name": "ipython",
    "version": 3
   },
   "file_extension": ".py",
   "mimetype": "text/x-python",
   "name": "python",
   "nbconvert_exporter": "python",
   "pygments_lexer": "ipython3",
   "version": "3.8.5-final"
  }
 },
 "nbformat": 4,
 "nbformat_minor": 2
}